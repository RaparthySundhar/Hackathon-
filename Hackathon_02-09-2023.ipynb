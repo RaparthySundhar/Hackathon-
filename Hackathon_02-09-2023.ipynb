{
 "cells": [
  {
   "cell_type": "code",
   "execution_count": 1,
   "id": "045e0d75",
   "metadata": {},
   "outputs": [],
   "source": [
    "import pandas as pd"
   ]
  },
  {
   "cell_type": "code",
   "execution_count": 5,
   "id": "0d19923f",
   "metadata": {},
   "outputs": [],
   "source": [
    "excel_file_path = r'C:\\Users\\saisu\\Downloads\\uber_rides_data.xlsx'\n",
    "\n",
    "df = pd.read_excel(excel_file_path)"
   ]
  },
  {
   "cell_type": "code",
   "execution_count": 6,
   "id": "e652962e",
   "metadata": {},
   "outputs": [
    {
     "data": {
      "text/html": [
       "<div>\n",
       "<style scoped>\n",
       "    .dataframe tbody tr th:only-of-type {\n",
       "        vertical-align: middle;\n",
       "    }\n",
       "\n",
       "    .dataframe tbody tr th {\n",
       "        vertical-align: top;\n",
       "    }\n",
       "\n",
       "    .dataframe thead th {\n",
       "        text-align: right;\n",
       "    }\n",
       "</style>\n",
       "<table border=\"1\" class=\"dataframe\">\n",
       "  <thead>\n",
       "    <tr style=\"text-align: right;\">\n",
       "      <th></th>\n",
       "      <th>ride_id</th>\n",
       "      <th>fare_amount</th>\n",
       "      <th>pickup_datetime</th>\n",
       "      <th>pickup_longitude</th>\n",
       "      <th>pickup_latitude</th>\n",
       "      <th>dropoff_longitude</th>\n",
       "      <th>dropoff_latitude</th>\n",
       "      <th>passenger_count</th>\n",
       "    </tr>\n",
       "  </thead>\n",
       "  <tbody>\n",
       "    <tr>\n",
       "      <th>0</th>\n",
       "      <td>24238194</td>\n",
       "      <td>7.5</td>\n",
       "      <td>2015-05-07 19:52:06 UTC</td>\n",
       "      <td>-73.999817</td>\n",
       "      <td>40.738354</td>\n",
       "      <td>-73.999512</td>\n",
       "      <td>40.723217</td>\n",
       "      <td>1</td>\n",
       "    </tr>\n",
       "    <tr>\n",
       "      <th>1</th>\n",
       "      <td>27835199</td>\n",
       "      <td>7.7</td>\n",
       "      <td>2009-07-17 20:04:56 UTC</td>\n",
       "      <td>-73.994355</td>\n",
       "      <td>40.728225</td>\n",
       "      <td>-73.994710</td>\n",
       "      <td>40.750325</td>\n",
       "      <td>1</td>\n",
       "    </tr>\n",
       "    <tr>\n",
       "      <th>2</th>\n",
       "      <td>44984355</td>\n",
       "      <td>12.9</td>\n",
       "      <td>2009-08-24 21:45:00 UTC</td>\n",
       "      <td>-74.005043</td>\n",
       "      <td>40.740770</td>\n",
       "      <td>-73.962565</td>\n",
       "      <td>40.772647</td>\n",
       "      <td>1</td>\n",
       "    </tr>\n",
       "    <tr>\n",
       "      <th>3</th>\n",
       "      <td>25894730</td>\n",
       "      <td>5.3</td>\n",
       "      <td>2009-06-26 08:22:21 UTC</td>\n",
       "      <td>-73.976124</td>\n",
       "      <td>40.790844</td>\n",
       "      <td>-73.965316</td>\n",
       "      <td>40.803349</td>\n",
       "      <td>3</td>\n",
       "    </tr>\n",
       "    <tr>\n",
       "      <th>4</th>\n",
       "      <td>17610152</td>\n",
       "      <td>16.0</td>\n",
       "      <td>2014-08-28 17:47:00 UTC</td>\n",
       "      <td>-73.925023</td>\n",
       "      <td>40.744085</td>\n",
       "      <td>-73.973082</td>\n",
       "      <td>40.761247</td>\n",
       "      <td>5</td>\n",
       "    </tr>\n",
       "    <tr>\n",
       "      <th>...</th>\n",
       "      <td>...</td>\n",
       "      <td>...</td>\n",
       "      <td>...</td>\n",
       "      <td>...</td>\n",
       "      <td>...</td>\n",
       "      <td>...</td>\n",
       "      <td>...</td>\n",
       "      <td>...</td>\n",
       "    </tr>\n",
       "    <tr>\n",
       "      <th>199995</th>\n",
       "      <td>42598914</td>\n",
       "      <td>3.0</td>\n",
       "      <td>2012-10-28 10:49:00 UTC</td>\n",
       "      <td>-73.987042</td>\n",
       "      <td>40.739367</td>\n",
       "      <td>-73.986525</td>\n",
       "      <td>40.740297</td>\n",
       "      <td>1</td>\n",
       "    </tr>\n",
       "    <tr>\n",
       "      <th>199996</th>\n",
       "      <td>16382965</td>\n",
       "      <td>7.5</td>\n",
       "      <td>2014-03-14 01:09:00 UTC</td>\n",
       "      <td>-73.984722</td>\n",
       "      <td>40.736837</td>\n",
       "      <td>-74.006672</td>\n",
       "      <td>40.739620</td>\n",
       "      <td>1</td>\n",
       "    </tr>\n",
       "    <tr>\n",
       "      <th>199997</th>\n",
       "      <td>27804658</td>\n",
       "      <td>30.9</td>\n",
       "      <td>2009-06-29 00:42:00 UTC</td>\n",
       "      <td>-73.986017</td>\n",
       "      <td>40.756487</td>\n",
       "      <td>-73.858957</td>\n",
       "      <td>40.692588</td>\n",
       "      <td>2</td>\n",
       "    </tr>\n",
       "    <tr>\n",
       "      <th>199998</th>\n",
       "      <td>20259894</td>\n",
       "      <td>14.5</td>\n",
       "      <td>2015-05-20 14:56:25 UTC</td>\n",
       "      <td>-73.997124</td>\n",
       "      <td>40.725452</td>\n",
       "      <td>-73.983215</td>\n",
       "      <td>40.695415</td>\n",
       "      <td>1</td>\n",
       "    </tr>\n",
       "    <tr>\n",
       "      <th>199999</th>\n",
       "      <td>11951496</td>\n",
       "      <td>14.1</td>\n",
       "      <td>2010-05-15 04:08:00 UTC</td>\n",
       "      <td>-73.984395</td>\n",
       "      <td>40.720077</td>\n",
       "      <td>-73.985508</td>\n",
       "      <td>40.768793</td>\n",
       "      <td>1</td>\n",
       "    </tr>\n",
       "  </tbody>\n",
       "</table>\n",
       "<p>200000 rows × 8 columns</p>\n",
       "</div>"
      ],
      "text/plain": [
       "         ride_id  fare_amount          pickup_datetime  pickup_longitude  \\\n",
       "0       24238194          7.5  2015-05-07 19:52:06 UTC        -73.999817   \n",
       "1       27835199          7.7  2009-07-17 20:04:56 UTC        -73.994355   \n",
       "2       44984355         12.9  2009-08-24 21:45:00 UTC        -74.005043   \n",
       "3       25894730          5.3  2009-06-26 08:22:21 UTC        -73.976124   \n",
       "4       17610152         16.0  2014-08-28 17:47:00 UTC        -73.925023   \n",
       "...          ...          ...                      ...               ...   \n",
       "199995  42598914          3.0  2012-10-28 10:49:00 UTC        -73.987042   \n",
       "199996  16382965          7.5  2014-03-14 01:09:00 UTC        -73.984722   \n",
       "199997  27804658         30.9  2009-06-29 00:42:00 UTC        -73.986017   \n",
       "199998  20259894         14.5  2015-05-20 14:56:25 UTC        -73.997124   \n",
       "199999  11951496         14.1  2010-05-15 04:08:00 UTC        -73.984395   \n",
       "\n",
       "        pickup_latitude  dropoff_longitude  dropoff_latitude  passenger_count  \n",
       "0             40.738354         -73.999512         40.723217                1  \n",
       "1             40.728225         -73.994710         40.750325                1  \n",
       "2             40.740770         -73.962565         40.772647                1  \n",
       "3             40.790844         -73.965316         40.803349                3  \n",
       "4             40.744085         -73.973082         40.761247                5  \n",
       "...                 ...                ...               ...              ...  \n",
       "199995        40.739367         -73.986525         40.740297                1  \n",
       "199996        40.736837         -74.006672         40.739620                1  \n",
       "199997        40.756487         -73.858957         40.692588                2  \n",
       "199998        40.725452         -73.983215         40.695415                1  \n",
       "199999        40.720077         -73.985508         40.768793                1  \n",
       "\n",
       "[200000 rows x 8 columns]"
      ]
     },
     "execution_count": 6,
     "metadata": {},
     "output_type": "execute_result"
    }
   ],
   "source": [
    "df"
   ]
  },
  {
   "cell_type": "code",
   "execution_count": 7,
   "id": "69d9b17f",
   "metadata": {},
   "outputs": [
    {
     "name": "stdout",
     "output_type": "stream",
     "text": [
      "Number of integer columns in the dataset: 2\n"
     ]
    }
   ],
   "source": [
    "#How many integer columns(by default) are given in the dataset?\n",
    "\n",
    "column_data_types = df.dtypes\n",
    "integer_columns = column_data_types[column_data_types == 'int64']\n",
    "num_integer_columns = len(integer_columns)\n",
    "\n",
    "print(f\"Number of integer columns in the dataset: {num_integer_columns}\")"
   ]
  },
  {
   "cell_type": "code",
   "execution_count": 8,
   "id": "14e4ce9c",
   "metadata": {},
   "outputs": [
    {
     "name": "stdout",
     "output_type": "stream",
     "text": [
      "(200000, 8)\n"
     ]
    }
   ],
   "source": [
    "#What is the shape of given dataset?\n",
    "\n",
    "shape = df.shape\n",
    "print(shape)"
   ]
  },
  {
   "cell_type": "code",
   "execution_count": 9,
   "id": "03d0f64a",
   "metadata": {},
   "outputs": [
    {
     "name": "stdout",
     "output_type": "stream",
     "text": [
      "Number of missing values in 'dropoff_longitude' column: 1\n"
     ]
    }
   ],
   "source": [
    "#How many missing values exists in 'dropoff_longitude' column?\n",
    "missing_values = df['dropoff_longitude'].isna().sum()\n",
    "print(\"Number of missing values in 'dropoff_longitude' column:\", missing_values)"
   ]
  },
  {
   "cell_type": "code",
   "execution_count": 10,
   "id": "14586aff",
   "metadata": {},
   "outputs": [
    {
     "name": "stdout",
     "output_type": "stream",
     "text": [
      "Data type of 'pickup_datetime' feature: object\n"
     ]
    }
   ],
   "source": [
    "#What is the data type of ' pickup_datetime' feature in your data?\n",
    "data_type = df['pickup_datetime'].dtype\n",
    "print(\"Data type of 'pickup_datetime' feature:\", data_type)"
   ]
  },
  {
   "cell_type": "code",
   "execution_count": 11,
   "id": "0389ee7d",
   "metadata": {},
   "outputs": [],
   "source": [
    "#Which of the following is the correct syntax to convert 'pickup_datetime' to datetime datatype?\n",
    "\n",
    "#pd.to_datetime(df['pickup_datetime'])"
   ]
  },
  {
   "cell_type": "code",
   "execution_count": 12,
   "id": "fa9f33b0",
   "metadata": {},
   "outputs": [],
   "source": [
    "#Which function can be used to remove null values from the dataframe?\n",
    "#df.dropna()"
   ]
  },
  {
   "cell_type": "code",
   "execution_count": 13,
   "id": "b783d5fe",
   "metadata": {},
   "outputs": [
    {
     "name": "stdout",
     "output_type": "stream",
     "text": [
      "Average Fare Amount: 11.359891549458371\n"
     ]
    }
   ],
   "source": [
    "#What is the average fare amount? Remove the null values from the dataframe to answer the following question.\n",
    "df = df.dropna()\n",
    "\n",
    "\n",
    "average_fare = df['fare_amount'].mean()\n",
    "\n",
    "print(\"Average Fare Amount:\", average_fare)"
   ]
  },
  {
   "cell_type": "code",
   "execution_count": 15,
   "id": "3ffae0ef",
   "metadata": {},
   "outputs": [
    {
     "name": "stdout",
     "output_type": "stream",
     "text": [
      "Median Haversine Distance: 2.120992396182902\n"
     ]
    },
    {
     "name": "stderr",
     "output_type": "stream",
     "text": [
      "C:\\Users\\saisu\\AppData\\Local\\Temp\\ipykernel_20640\\2125694318.py:26: SettingWithCopyWarning: \n",
      "A value is trying to be set on a copy of a slice from a DataFrame.\n",
      "Try using .loc[row_indexer,col_indexer] = value instead\n",
      "\n",
      "See the caveats in the documentation: https://pandas.pydata.org/pandas-docs/stable/user_guide/indexing.html#returning-a-view-versus-a-copy\n",
      "  df['haversine_distance'] = df.apply(lambda row: haversine(row['pickup_latitude'], row['pickup_longitude'], row['dropoff_latitude'], row['dropoff_longitude']), axis=1)\n"
     ]
    }
   ],
   "source": [
    "#Calculate distance between each pickup and dropoff points using Haversine formula. \n",
    "#What is the median haversine distance between pickup and dropoff location according to the given dataset?\n",
    "#Read about Haversine Distance here: https://en.wikipedia.org/wiki/Haversine_formula\n",
    "\n",
    "import numpy as np\n",
    "\n",
    "\n",
    "def haversine(lat1, lon1, lat2, lon2):\n",
    " \n",
    "    R = 6371.0\n",
    "\n",
    "    lat1 = np.radians(lat1)\n",
    "    lon1 = np.radians(lon1)\n",
    "    lat2 = np.radians(lat2)\n",
    "    lon2 = np.radians(lon2)\n",
    "    \n",
    "    # Haversine formula\n",
    "    dlon = lon2 - lon1\n",
    "    dlat = lat2 - lat1\n",
    "    a = np.sin(dlat / 2)**2 + np.cos(lat1) * np.cos(lat2) * np.sin(dlon / 2)**2\n",
    "    c = 2 * np.arctan2(np.sqrt(a), np.sqrt(1 - a))\n",
    "    distance = R * c\n",
    "    \n",
    "    return distance\n",
    "\n",
    "df['haversine_distance'] = df.apply(lambda row: haversine(row['pickup_latitude'], row['pickup_longitude'], row['dropoff_latitude'], row['dropoff_longitude']), axis=1)\n",
    "\n",
    "\n",
    "median_haversine_distance = df['haversine_distance'].median()\n",
    "\n",
    "print(\"Median Haversine Distance:\", median_haversine_distance)\n"
   ]
  },
  {
   "cell_type": "code",
   "execution_count": 16,
   "id": "c6d82001",
   "metadata": {},
   "outputs": [
    {
     "name": "stdout",
     "output_type": "stream",
     "text": [
      "Maximum Haversine Distance: 16409.23913531317\n"
     ]
    }
   ],
   "source": [
    "#What is the maximum haversine distance between pickup and dropoff location according to the given dataset?\n",
    "\n",
    "\n",
    "max_haversine_distance = df['haversine_distance'].max()\n",
    "\n",
    "print(\"Maximum Haversine Distance:\", max_haversine_distance)\n"
   ]
  },
  {
   "cell_type": "code",
   "execution_count": 17,
   "id": "01b42fb5",
   "metadata": {},
   "outputs": [
    {
     "name": "stdout",
     "output_type": "stream",
     "text": [
      "Number of rides with 0.0 Haversine distance: 5632\n"
     ]
    }
   ],
   "source": [
    "#How many rides have 0.0 haversine distance between pickup and dropoff location according to the given dataset?\n",
    "\n",
    "\n",
    "zero_distance_rides = df[df['haversine_distance'] == 0.0]\n",
    "num_zero_distance_rides = len(zero_distance_rides)\n",
    "\n",
    "print(\"Number of rides with 0.0 Haversine distance:\", num_zero_distance_rides)\n"
   ]
  },
  {
   "cell_type": "code",
   "execution_count": 18,
   "id": "cf15e279",
   "metadata": {},
   "outputs": [
    {
     "name": "stdout",
     "output_type": "stream",
     "text": [
      "Mean 'fare_amount' for rides with 0.0 Haversine distance: 11.585317826704578\n"
     ]
    },
    {
     "data": {
      "image/png": "[encoded data removed]",
      "text/plain": [
       "<Figure size 640x480 with 1 Axes>"
      ]
     },
     "metadata": {},
     "output_type": "display_data"
    }
   ],
   "source": [
    "#What is the mean 'fare_amount' for rides with 0 haversine distance? \n",
    "#Do you sense something fishy? Try to analyze, and give your expert opinion in Jupyter Notebook.\n",
    "\n",
    "\n",
    "import matplotlib.pyplot as plt\n",
    "\n",
    "\n",
    "zero_distance_rides = df[df['haversine_distance'] == 0.0]\n",
    "\n",
    "\n",
    "mean_fare_for_zero_distance_rides = zero_distance_rides['fare_amount'].mean()\n",
    "\n",
    "print(\"Mean 'fare_amount' for rides with 0.0 Haversine distance:\", mean_fare_for_zero_distance_rides)\n",
    "\n",
    "\n",
    "plt.hist(zero_distance_rides['fare_amount'], bins=20, edgecolor='k')\n",
    "plt.xlabel('Fare Amount')\n",
    "plt.ylabel('Frequency')\n",
    "plt.title('Fare Amount Distribution for Rides with 0.0 Haversine Distance')\n",
    "plt.show()\n"
   ]
  },
  {
   "cell_type": "code",
   "execution_count": 19,
   "id": "72f26931",
   "metadata": {},
   "outputs": [
    {
     "name": "stdout",
     "output_type": "stream",
     "text": [
      "Maximum 'fare_amount' for a ride: 499.0\n"
     ]
    }
   ],
   "source": [
    "#What is the maximum 'fare_amount' for a ride?\n",
    "\n",
    "\n",
    "max_fare_amount = df['fare_amount'].max()\n",
    "\n",
    "print(\"Maximum 'fare_amount' for a ride:\", max_fare_amount)\n"
   ]
  },
  {
   "cell_type": "code",
   "execution_count": 20,
   "id": "c5bbab13",
   "metadata": {},
   "outputs": [
    {
     "name": "stdout",
     "output_type": "stream",
     "text": [
      "Haversine distance for the costliest ride: 0.0007899213191009994\n"
     ]
    }
   ],
   "source": [
    "#What is the haversine distance between pickup and dropoff location for the costliest ride?\n",
    "#Do you sense something fishy? Try to analyze, and give your expert opinion in Jupyter Notebook.\n",
    "\n",
    "\n",
    "max_fare_index = df['fare_amount'].idxmax()\n",
    "\n",
    "pickup_lat = df.at[max_fare_index, 'pickup_latitude']\n",
    "pickup_lon = df.at[max_fare_index, 'pickup_longitude']\n",
    "dropoff_lat = df.at[max_fare_index, 'dropoff_latitude']\n",
    "dropoff_lon = df.at[max_fare_index, 'dropoff_longitude']\n",
    "\n",
    "# Function to calculate Haversine distance\n",
    "def haversine(lat1, lon1, lat2, lon2):\n",
    "\n",
    "    R = 6371.0\n",
    "    \n",
    "\n",
    "    lat1 = np.radians(lat1)\n",
    "    lon1 = np.radians(lon1)\n",
    "    lat2 = np.radians(lat2)\n",
    "    lon2 = np.radians(lon2)\n",
    "    \n",
    "    dlon = lon2 - lon1\n",
    "    dlat = lat2 - lat1\n",
    "    a = np.sin(dlat / 2)**2 + np.cos(lat1) * np.cos(lat2) * np.sin(dlon / 2)**2\n",
    "    c = 2 * np.arctan2(np.sqrt(a), np.sqrt(1 - a))\n",
    "    distance = R * c\n",
    "    \n",
    "    return distance\n",
    "\n",
    "haversine_distance_costliest_ride = haversine(pickup_lat, pickup_lon, dropoff_lat, dropoff_lon)\n",
    "\n",
    "print(\"Haversine distance for the costliest ride:\", haversine_distance_costliest_ride)\n"
   ]
  },
  {
   "cell_type": "code",
   "execution_count": 23,
   "id": "962b1ca4",
   "metadata": {},
   "outputs": [
    {
     "name": "stdout",
     "output_type": "stream",
     "text": [
      "Number of rides recorded in the year 2014: 29968\n"
     ]
    },
    {
     "name": "stderr",
     "output_type": "stream",
     "text": [
      "C:\\Users\\saisu\\AppData\\Local\\Temp\\ipykernel_20640\\2028509208.py:4: SettingWithCopyWarning: \n",
      "A value is trying to be set on a copy of a slice from a DataFrame.\n",
      "Try using .loc[row_indexer,col_indexer] = value instead\n",
      "\n",
      "See the caveats in the documentation: https://pandas.pydata.org/pandas-docs/stable/user_guide/indexing.html#returning-a-view-versus-a-copy\n",
      "  df['pickup_datetime'] = pd.to_datetime(df['pickup_datetime'])\n",
      "C:\\Users\\saisu\\AppData\\Local\\Temp\\ipykernel_20640\\2028509208.py:7: SettingWithCopyWarning: \n",
      "A value is trying to be set on a copy of a slice from a DataFrame.\n",
      "Try using .loc[row_indexer,col_indexer] = value instead\n",
      "\n",
      "See the caveats in the documentation: https://pandas.pydata.org/pandas-docs/stable/user_guide/indexing.html#returning-a-view-versus-a-copy\n",
      "  df['pickup_year'] = df['pickup_datetime'].dt.year\n"
     ]
    }
   ],
   "source": [
    "\n",
    "df['pickup_datetime'] = pd.to_datetime(df['pickup_datetime'])\n",
    "\n",
    "\n",
    "df['pickup_year'] = df['pickup_datetime'].dt.year\n",
    "\n",
    "\n",
    "rides_in_2014 = df[df['pickup_year'] == 2014]\n",
    "\n",
    "\n",
    "num_rides_in_2014 = len(rides_in_2014)\n",
    "\n",
    "print(\"Number of rides recorded in the year 2014:\", num_rides_in_2014)\n"
   ]
  },
  {
   "cell_type": "code",
   "execution_count": 24,
   "id": "fa3fbd9f",
   "metadata": {},
   "outputs": [
    {
     "name": "stdout",
     "output_type": "stream",
     "text": [
      "Number of rides recorded in the first quarter of 2014: 7687\n"
     ]
    },
    {
     "name": "stderr",
     "output_type": "stream",
     "text": [
      "C:\\Users\\saisu\\AppData\\Local\\Temp\\ipykernel_20640\\314265249.py:6: SettingWithCopyWarning: \n",
      "A value is trying to be set on a copy of a slice from a DataFrame.\n",
      "Try using .loc[row_indexer,col_indexer] = value instead\n",
      "\n",
      "See the caveats in the documentation: https://pandas.pydata.org/pandas-docs/stable/user_guide/indexing.html#returning-a-view-versus-a-copy\n",
      "  df['pickup_quarter'] = df['pickup_datetime'].dt.quarter\n"
     ]
    }
   ],
   "source": [
    "#How many rides were recorded in the first quarter of 2014?\n",
    "\n",
    "\n",
    "df['pickup_quarter'] = df['pickup_datetime'].dt.quarter\n",
    "\n",
    "\n",
    "rides_in_first_quarter_2014 = df[(df['pickup_year'] == 2014) & (df['pickup_quarter'] == 1)]\n",
    "\n",
    "\n",
    "num_rides_in_first_quarter_2014 = len(rides_in_first_quarter_2014)\n",
    "\n",
    "print(\"Number of rides recorded in the first quarter of 2014:\", num_rides_in_first_quarter_2014)\n"
   ]
  },
  {
   "cell_type": "code",
   "execution_count": 25,
   "id": "605523c4",
   "metadata": {},
   "outputs": [
    {
     "name": "stdout",
     "output_type": "stream",
     "text": [
      "Day of the week in September 2010 with maximum rides: Thursday\n"
     ]
    },
    {
     "name": "stderr",
     "output_type": "stream",
     "text": [
      "C:\\Users\\saisu\\AppData\\Local\\Temp\\ipykernel_20640\\1079425012.py:10: SettingWithCopyWarning: \n",
      "A value is trying to be set on a copy of a slice from a DataFrame.\n",
      "Try using .loc[row_indexer,col_indexer] = value instead\n",
      "\n",
      "See the caveats in the documentation: https://pandas.pydata.org/pandas-docs/stable/user_guide/indexing.html#returning-a-view-versus-a-copy\n",
      "  rides_in_september_2010['pickup_day_of_week'] = rides_in_september_2010['pickup_datetime'].dt.day_name()\n"
     ]
    }
   ],
   "source": [
    "#On which day of the week in September 2010, maximum rides were recorded ?\n",
    "\n",
    "rides_in_september_2010 = df[(df['pickup_datetime'].dt.year == 2010) & (df['pickup_datetime'].dt.month == 9)]\n",
    "\n",
    "\n",
    "rides_in_september_2010['pickup_day_of_week'] = rides_in_september_2010['pickup_datetime'].dt.day_name()\n",
    "\n",
    "\n",
    "max_rides_day = rides_in_september_2010['pickup_day_of_week'].value_counts().idxmax()\n",
    "\n",
    "print(\"Day of the week in September 2010 with maximum rides:\", max_rides_day)\n"
   ]
  }
 ],
 "metadata": {
  "kernelspec": {
   "display_name": "Python 3 (ipykernel)",
   "language": "python",
   "name": "python3"
  },
  "language_info": {
   "codemirror_mode": {
    "name": "ipython",
    "version": 3
   },
   "file_extension": ".py",
   "mimetype": "text/x-python",
   "name": "python",
   "nbconvert_exporter": "python",
   "pygments_lexer": "ipython3",
   "version": "3.9.13"
  }
 },
 "nbformat": 4,
 "nbformat_minor": 5
}
